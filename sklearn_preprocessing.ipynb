{
  "nbformat": 4,
  "nbformat_minor": 0,
  "metadata": {
    "colab": {
      "provenance": []
    },
    "kernelspec": {
      "name": "python3",
      "display_name": "Python 3"
    },
    "language_info": {
      "name": "python"
    }
  },
  "cells": [
    {
      "cell_type": "code",
      "execution_count": null,
      "metadata": {
        "colab": {
          "base_uri": "https://localhost:8080/"
        },
        "id": "8U5hzjMemwrZ",
        "outputId": "97a13a1b-9e8b-4e9b-e1ec-8ca7bcafa9ac"
      },
      "outputs": [
        {
          "output_type": "execute_result",
          "data": {
            "text/plain": [
              "array([[  1,   2,   3],\n",
              "       [  4,   5,   6],\n",
              "       [  3,   6,   8],\n",
              "       [  7, 999, 999]])"
            ]
          },
          "metadata": {},
          "execution_count": 4
        }
      ],
      "source": [
        "# Scaling data with outliers\n",
        "# use RobustScaler\n",
        "from sklearn import preprocessing\n",
        "import numpy as np\n",
        "X_train= np.array([[1, 2, 3],\n",
        "                   [4, 5, 6],\n",
        "                   [3 ,6 ,8],\n",
        "                   [7, 999, 999]])\n",
        "X_train"
      ]
    },
    {
      "cell_type": "code",
      "source": [
        "scaler = preprocessing.RobustScaler().fit(X_train)\n",
        "X_train_scaled = scaler.transform(X_train)\n",
        "X_train_scaled.round(2)"
      ],
      "metadata": {
        "colab": {
          "base_uri": "https://localhost:8080/"
        },
        "id": "_E-BJi-roesJ",
        "outputId": "51ce74d1-87f1-4484-dfd1-5fbbd3e136f1"
      },
      "execution_count": null,
      "outputs": [
        {
          "output_type": "execute_result",
          "data": {
            "text/plain": [
              "array([[-1.11, -0.01, -0.02],\n",
              "       [ 0.22, -0.  , -0.  ],\n",
              "       [-0.22,  0.  ,  0.  ],\n",
              "       [ 1.56,  3.97,  3.96]])"
            ]
          },
          "metadata": {},
          "execution_count": 7
        }
      ]
    },
    {
      "cell_type": "code",
      "source": [
        "scaler = preprocessing.MinMaxScaler().fit(X_train)\n",
        "X_train_scaled = scaler.transform(X_train)\n",
        "X_train_scaled.round(2)"
      ],
      "metadata": {
        "colab": {
          "base_uri": "https://localhost:8080/"
        },
        "id": "ZwV5mg_vo6Lm",
        "outputId": "47c2696d-1abc-46b3-ff59-630ae30805be"
      },
      "execution_count": null,
      "outputs": [
        {
          "output_type": "execute_result",
          "data": {
            "text/plain": [
              "array([[0.  , 0.  , 0.  ],\n",
              "       [0.5 , 0.  , 0.  ],\n",
              "       [0.33, 0.  , 0.01],\n",
              "       [1.  , 1.  , 1.  ]])"
            ]
          },
          "metadata": {},
          "execution_count": 8
        }
      ]
    },
    {
      "cell_type": "code",
      "source": [
        "x= np.array([np.random.randint(0,10,50),\n",
        "              np.random.randint(0,10,50)]).T\n",
        "x = np.append(x, np.array([[5, 878999]]), axis =0)\n",
        "x"
      ],
      "metadata": {
        "colab": {
          "base_uri": "https://localhost:8080/"
        },
        "id": "5SiUwvm-ppuW",
        "outputId": "d7b53957-5bb9-42fa-b1ae-e1bb3f5e3ac5"
      },
      "execution_count": null,
      "outputs": [
        {
          "output_type": "execute_result",
          "data": {
            "text/plain": [
              "array([[     2,      4],\n",
              "       [     4,      4],\n",
              "       [     0,      4],\n",
              "       [     4,      6],\n",
              "       [     7,      0],\n",
              "       [     3,      5],\n",
              "       [     2,      6],\n",
              "       [     7,      4],\n",
              "       [     1,      1],\n",
              "       [     7,      0],\n",
              "       [     0,      1],\n",
              "       [     3,      2],\n",
              "       [     5,      3],\n",
              "       [     9,      4],\n",
              "       [     7,      7],\n",
              "       [     2,      6],\n",
              "       [     5,      8],\n",
              "       [     3,      8],\n",
              "       [     7,      9],\n",
              "       [     5,      7],\n",
              "       [     3,      0],\n",
              "       [     3,      0],\n",
              "       [     7,      1],\n",
              "       [     3,      9],\n",
              "       [     9,      4],\n",
              "       [     7,      6],\n",
              "       [     9,      3],\n",
              "       [     1,      5],\n",
              "       [     3,      9],\n",
              "       [     6,      3],\n",
              "       [     6,      9],\n",
              "       [     8,      8],\n",
              "       [     9,      7],\n",
              "       [     7,      4],\n",
              "       [     1,      5],\n",
              "       [     6,      9],\n",
              "       [     8,      6],\n",
              "       [     2,      7],\n",
              "       [     5,      2],\n",
              "       [     2,      2],\n",
              "       [     0,      0],\n",
              "       [     2,      4],\n",
              "       [     1,      3],\n",
              "       [     4,      6],\n",
              "       [     6,      7],\n",
              "       [     5,      9],\n",
              "       [     1,      6],\n",
              "       [     6,      6],\n",
              "       [     5,      5],\n",
              "       [     5,      3],\n",
              "       [     5, 878999]])"
            ]
          },
          "metadata": {},
          "execution_count": 24
        }
      ]
    },
    {
      "cell_type": "code",
      "source": [
        "scaler = preprocessing.MinMaxScaler().fit_transform(x)\n",
        "scaler.round(2)"
      ],
      "metadata": {
        "colab": {
          "base_uri": "https://localhost:8080/"
        },
        "id": "Ay5bgzO4qg7n",
        "outputId": "c37fb705-707f-4cfe-d23a-82011af8e7e0"
      },
      "execution_count": null,
      "outputs": [
        {
          "output_type": "execute_result",
          "data": {
            "text/plain": [
              "array([[0.89, 0.  ],\n",
              "       [0.67, 0.  ],\n",
              "       [0.22, 0.  ],\n",
              "       [0.78, 0.  ],\n",
              "       [0.  , 0.  ],\n",
              "       [0.78, 0.  ],\n",
              "       [0.89, 0.  ],\n",
              "       [1.  , 0.  ],\n",
              "       [1.  , 0.  ],\n",
              "       [1.  , 0.  ],\n",
              "       [0.  , 0.  ],\n",
              "       [0.78, 0.  ],\n",
              "       [1.  , 0.  ],\n",
              "       [0.  , 0.  ],\n",
              "       [1.  , 0.  ],\n",
              "       [1.  , 0.  ],\n",
              "       [0.33, 0.  ],\n",
              "       [0.89, 0.  ],\n",
              "       [0.22, 0.  ],\n",
              "       [0.67, 0.  ],\n",
              "       [0.44, 0.  ],\n",
              "       [0.22, 0.  ],\n",
              "       [0.56, 0.  ],\n",
              "       [0.78, 0.  ],\n",
              "       [0.89, 0.  ],\n",
              "       [0.11, 0.  ],\n",
              "       [0.11, 0.  ],\n",
              "       [0.11, 0.  ],\n",
              "       [0.11, 0.  ],\n",
              "       [0.67, 0.  ],\n",
              "       [0.89, 0.  ],\n",
              "       [0.44, 0.  ],\n",
              "       [0.67, 0.  ],\n",
              "       [0.89, 0.  ],\n",
              "       [0.44, 0.  ],\n",
              "       [0.89, 0.  ],\n",
              "       [0.67, 0.  ],\n",
              "       [0.56, 0.  ],\n",
              "       [0.33, 0.  ],\n",
              "       [0.78, 0.  ],\n",
              "       [0.44, 0.  ],\n",
              "       [0.44, 0.  ],\n",
              "       [0.33, 0.  ],\n",
              "       [0.22, 0.  ],\n",
              "       [0.11, 0.  ],\n",
              "       [0.22, 0.  ],\n",
              "       [0.56, 0.  ],\n",
              "       [0.78, 0.  ],\n",
              "       [0.56, 0.  ],\n",
              "       [0.44, 0.  ],\n",
              "       [0.56, 1.  ]])"
            ]
          },
          "metadata": {},
          "execution_count": 32
        }
      ]
    },
    {
      "cell_type": "code",
      "source": [
        "scale=preprocessing.RobustScaler().fit_transform(x)\n",
        "scale.round(3)"
      ],
      "metadata": {
        "colab": {
          "base_uri": "https://localhost:8080/"
        },
        "id": "WiDJro3PrRnG",
        "outputId": "548e062c-ea2b-4d8e-85c8-c701e0290ec8"
      },
      "execution_count": null,
      "outputs": [
        {
          "output_type": "execute_result",
          "data": {
            "text/plain": [
              "array([[ 6.000000e-01,  8.000000e-01],\n",
              "       [ 2.000000e-01, -4.000000e-01],\n",
              "       [-6.000000e-01,  8.000000e-01],\n",
              "       [ 4.000000e-01, -8.000000e-01],\n",
              "       [-1.000000e+00,  6.000000e-01],\n",
              "       [ 4.000000e-01,  2.000000e-01],\n",
              "       [ 6.000000e-01, -2.000000e-01],\n",
              "       [ 8.000000e-01, -8.000000e-01],\n",
              "       [ 8.000000e-01,  2.000000e-01],\n",
              "       [ 8.000000e-01,  0.000000e+00],\n",
              "       [-1.000000e+00,  6.000000e-01],\n",
              "       [ 4.000000e-01,  4.000000e-01],\n",
              "       [ 8.000000e-01,  0.000000e+00],\n",
              "       [-1.000000e+00,  0.000000e+00],\n",
              "       [ 8.000000e-01,  6.000000e-01],\n",
              "       [ 8.000000e-01,  4.000000e-01],\n",
              "       [-4.000000e-01,  2.000000e-01],\n",
              "       [ 6.000000e-01, -6.000000e-01],\n",
              "       [-6.000000e-01,  6.000000e-01],\n",
              "       [ 2.000000e-01,  4.000000e-01],\n",
              "       [-2.000000e-01,  6.000000e-01],\n",
              "       [-6.000000e-01, -8.000000e-01],\n",
              "       [ 0.000000e+00, -1.000000e+00],\n",
              "       [ 4.000000e-01, -8.000000e-01],\n",
              "       [ 6.000000e-01, -2.000000e-01],\n",
              "       [-8.000000e-01,  6.000000e-01],\n",
              "       [-8.000000e-01,  2.000000e-01],\n",
              "       [-8.000000e-01, -6.000000e-01],\n",
              "       [-8.000000e-01, -1.000000e+00],\n",
              "       [ 2.000000e-01,  0.000000e+00],\n",
              "       [ 6.000000e-01, -4.000000e-01],\n",
              "       [-2.000000e-01, -6.000000e-01],\n",
              "       [ 2.000000e-01,  6.000000e-01],\n",
              "       [ 6.000000e-01,  8.000000e-01],\n",
              "       [-2.000000e-01,  4.000000e-01],\n",
              "       [ 6.000000e-01, -4.000000e-01],\n",
              "       [ 2.000000e-01, -6.000000e-01],\n",
              "       [ 0.000000e+00, -4.000000e-01],\n",
              "       [-4.000000e-01, -8.000000e-01],\n",
              "       [ 4.000000e-01, -1.000000e+00],\n",
              "       [-2.000000e-01, -8.000000e-01],\n",
              "       [-2.000000e-01, -2.000000e-01],\n",
              "       [-4.000000e-01, -4.000000e-01],\n",
              "       [-6.000000e-01, -2.000000e-01],\n",
              "       [-8.000000e-01,  8.000000e-01],\n",
              "       [-6.000000e-01, -4.000000e-01],\n",
              "       [ 0.000000e+00,  0.000000e+00],\n",
              "       [ 4.000000e-01, -6.000000e-01],\n",
              "       [ 0.000000e+00, -2.000000e-01],\n",
              "       [-2.000000e-01,  2.000000e-01],\n",
              "       [ 0.000000e+00,  1.757988e+05]])"
            ]
          },
          "metadata": {},
          "execution_count": 34
        }
      ]
    },
    {
      "cell_type": "markdown",
      "source": [
        "**Outlier distort most scaling techniques**\n",
        "\n",
        "  Value\n",
        "- 10\n",
        "- 12\n",
        "- 13\n",
        "- 15\n",
        "- 10,000 (outlier 🚨)\n",
        "\n",
        "StandardScaler subtracts the mean and divides by the standard deviation — both of which are heavily influenced by the huge value 10,000.\n",
        "\n",
        "MinMaxScaler rescales values to [0, 1] using min and max, so 10,000 as the max makes all other values squished near 0.\n",
        "\n",
        "As a result, “normal” data points lose their variation — they become indistinguishable from each other.\n",
        "\n",
        "RobustScaler uses median and IQR (Interquartile Range) instead of mean and standard deviation.\n",
        "\n",
        "    X' = X - Median(X)/IQR(X)\n",
        "    IQR = Q3 - Q1\n",
        "    where Q3= 75th percentile, Q1=25th percentile\n",
        "\n",
        "- The median and IQR are robust statistics — they don’t change much even when extreme outliers are present.\n",
        "\n",
        "- So main data distribution (the “central mass” of points) is preserved and well-scaled.\n",
        "\n",
        "- The outliers remain far away (which is good — the model can still detect them).\n",
        "\n",
        "\n",
        "\n"
      ],
      "metadata": {
        "id": "_AnThd2mtmRm"
      }
    }
  ]
}